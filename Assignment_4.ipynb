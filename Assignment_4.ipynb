{
  "nbformat": 4,
  "nbformat_minor": 0,
  "metadata": {
    "colab": {
      "name": "Assignment 4.ipynb",
      "provenance": [],
      "collapsed_sections": [],
      "include_colab_link": true
    },
    "kernelspec": {
      "display_name": "Python 3",
      "language": "python",
      "name": "python3"
    },
    "language_info": {
      "codemirror_mode": {
        "name": "ipython",
        "version": 3
      },
      "file_extension": ".py",
      "mimetype": "text/x-python",
      "name": "python",
      "nbconvert_exporter": "python",
      "pygments_lexer": "ipython3",
      "version": "3.7.4"
    }
  },
  "cells": [
    {
      "cell_type": "markdown",
      "metadata": {
        "id": "view-in-github",
        "colab_type": "text"
      },
      "source": [
        "<a href=\"https://colab.research.google.com/github/Meeta14/Shala-Assignments/blob/master/Assignment_4.ipynb\" target=\"_parent\"><img src=\"https://colab.research.google.com/assets/colab-badge.svg\" alt=\"Open In Colab\"/></a>"
      ]
    },
    {
      "cell_type": "markdown",
      "metadata": {
        "colab_type": "text",
        "id": "NVMUAJt8gzbA"
      },
      "source": [
        "# MLE and Hypothesis Testing"
      ]
    },
    {
      "cell_type": "markdown",
      "metadata": {
        "colab_type": "text",
        "id": "d1-kEc8hXx3N"
      },
      "source": [
        "### Read the given csv file [```q4.csv```](https://raw.githubusercontent.com/Ipsit1234/SHALA/master/q4.csv) of samples. Assume that it is drawn from a exponential distribution. What is the difference of log likelihoods for $\\lambda = 1$ and $\\lambda = 2$ ? Which of the two is more strongly supported?"
      ]
    },
    {
      "cell_type": "code",
      "metadata": {
        "colab_type": "code",
        "id": "DHfUkvD3KcNN",
        "colab": {}
      },
      "source": [
        "import numpy as np\n",
        "import pandas as pd\n",
        "from scipy import stats\n",
        "from matplotlib import pyplot as plt\n",
        "import seaborn as sns"
      ],
      "execution_count": 0,
      "outputs": []
    },
    {
      "cell_type": "code",
      "metadata": {
        "colab_type": "code",
        "id": "UAphR126LEwa",
        "colab": {}
      },
      "source": [
        "url = 'https://raw.githubusercontent.com/Ipsit1234/SHALA/master/q4.csv'\n",
        "data = pd.read_csv(url,header=None)"
      ],
      "execution_count": 0,
      "outputs": []
    },
    {
      "cell_type": "code",
      "metadata": {
        "id": "Oh6tlz2PmH7i",
        "colab_type": "code",
        "outputId": "aeea9372-5bb7-4611-dca1-ccb2045de55d",
        "colab": {
          "base_uri": "https://localhost:8080/",
          "height": 195
        }
      },
      "source": [
        "data.head()"
      ],
      "execution_count": 0,
      "outputs": [
        {
          "output_type": "execute_result",
          "data": {
            "text/html": [
              "<div>\n",
              "<style scoped>\n",
              "    .dataframe tbody tr th:only-of-type {\n",
              "        vertical-align: middle;\n",
              "    }\n",
              "\n",
              "    .dataframe tbody tr th {\n",
              "        vertical-align: top;\n",
              "    }\n",
              "\n",
              "    .dataframe thead th {\n",
              "        text-align: right;\n",
              "    }\n",
              "</style>\n",
              "<table border=\"1\" class=\"dataframe\">\n",
              "  <thead>\n",
              "    <tr style=\"text-align: right;\">\n",
              "      <th></th>\n",
              "      <th>0</th>\n",
              "      <th>1</th>\n",
              "    </tr>\n",
              "  </thead>\n",
              "  <tbody>\n",
              "    <tr>\n",
              "      <th>0</th>\n",
              "      <td>0</td>\n",
              "      <td>0.019404</td>\n",
              "    </tr>\n",
              "    <tr>\n",
              "      <th>1</th>\n",
              "      <td>1</td>\n",
              "      <td>0.043634</td>\n",
              "    </tr>\n",
              "    <tr>\n",
              "      <th>2</th>\n",
              "      <td>2</td>\n",
              "      <td>0.023797</td>\n",
              "    </tr>\n",
              "    <tr>\n",
              "      <th>3</th>\n",
              "      <td>3</td>\n",
              "      <td>0.444340</td>\n",
              "    </tr>\n",
              "    <tr>\n",
              "      <th>4</th>\n",
              "      <td>4</td>\n",
              "      <td>0.578160</td>\n",
              "    </tr>\n",
              "  </tbody>\n",
              "</table>\n",
              "</div>"
            ],
            "text/plain": [
              "   0         1\n",
              "0  0  0.019404\n",
              "1  1  0.043634\n",
              "2  2  0.023797\n",
              "3  3  0.444340\n",
              "4  4  0.578160"
            ]
          },
          "metadata": {
            "tags": []
          },
          "execution_count": 5
        }
      ]
    },
    {
      "cell_type": "code",
      "metadata": {
        "id": "x0L3XuZDmH7y",
        "colab_type": "code",
        "outputId": "024c978c-d4ac-449a-9c40-b6eb57e91cf5",
        "colab": {
          "base_uri": "https://localhost:8080/",
          "height": 282
        }
      },
      "source": [
        "arr = data[1].to_numpy()\n",
        "arr.sort()\n",
        "plt.plot(arr)"
      ],
      "execution_count": 0,
      "outputs": [
        {
          "output_type": "execute_result",
          "data": {
            "text/plain": [
              "[<matplotlib.lines.Line2D at 0x7efbdff76a90>]"
            ]
          },
          "metadata": {
            "tags": []
          },
          "execution_count": 6
        },
        {
          "output_type": "display_data",
          "data": {
            "image/png": "[encoded data removed]",
            "text/plain": [
              "<Figure size 432x288 with 1 Axes>"
            ]
          },
          "metadata": {
            "tags": [],
            "needs_background": "light"
          }
        }
      ]
    },
    {
      "cell_type": "markdown",
      "metadata": {
        "colab_type": "text",
        "id": "nDpo9jpidQHk"
      },
      "source": [
        "# PDF of exponential distribution is $\\lambda e^{-\\lambda x}$\n",
        "Define a function to find pdf. You can use any module to get pre-defined functions also. And then find the likelihood and log-likelihood"
      ]
    },
    {
      "cell_type": "code",
      "metadata": {
        "colab_type": "code",
        "id": "Hio8uXrtLjl7",
        "outputId": "80ae9ad0-30a7-46db-dc7a-1c296979f12b",
        "colab": {
          "base_uri": "https://localhost:8080/",
          "height": 298
        }
      },
      "source": [
        "#val = np.arange(1, 2)\n",
        "x = np.arange(0, 15, 0.1)\n",
        "\n",
        "for Lambda in range(1, 3):\n",
        "    y = Lambda*np.exp(-Lambda*x)\n",
        "    plt.plot(x,y, label=\"λ = {:f}\".format(Lambda))\n",
        "    plt.xlabel('Random Variable', fontsize=12)\n",
        "    plt.ylabel('Probability', fontsize=12)\n",
        "    plt.title(\"Exponential Distribution\")\n",
        "    plt.legend()"
      ],
      "execution_count": 0,
      "outputs": [
        {
          "output_type": "display_data",
          "data": {
            "image/png": "[encoded data removed]",
            "text/plain": [
              "<Figure size 432x288 with 1 Axes>"
            ]
          },
          "metadata": {
            "tags": [],
            "needs_background": "light"
          }
        }
      ]
    },
    {
      "cell_type": "code",
      "metadata": {
        "id": "Bf5mMDWcmH8J",
        "colab_type": "code",
        "outputId": "de0d4f6a-0ec3-4256-80e9-f12d573eb11b",
        "colab": {
          "base_uri": "https://localhost:8080/",
          "height": 101
        }
      },
      "source": [
        "likelihood_1 = 1\n",
        "likelihood_2 = 1\n",
        "for i in data[1]:\n",
        "    likelihood_1 = likelihood_1*np.exp(-i)\n",
        "    likelihood_2 = 2 * likelihood_2*np.exp(-2*i)\n",
        "\n",
        "loglikelihood_1 = np.log(likelihood_1)\n",
        "loglikelihood_2 = np.log(likelihood_2)\n",
        "\n",
        "print('likelihood for lambda = 1 is {}'.format(likelihood_1))\n",
        "print('likelihood for lambda = 2 is {}'.format(likelihood_2))\n",
        "\n",
        "print('Log-likelihood for lambda = 1 is {}'.format(loglikelihood_1))\n",
        "print('Log-likelihood for lambda = 2 is {}'.format(loglikelihood_2))\n",
        "\n",
        "print('Difference is {}'.format(abs(loglikelihood_1 - loglikelihood_2)))"
      ],
      "execution_count": 0,
      "outputs": [
        {
          "output_type": "stream",
          "text": [
            "likelihood for lambda = 1 is 5.521066015971322e-22\n",
            "likelihood for lambda = 2 is 3.864074103681617e-13\n",
            "Log-likelihood for lambda = 1 is -48.94830108538966\n",
            "Log-likelihood for lambda = 2 is -28.581884114784785\n",
            "Difference is 20.366416970604874\n"
          ],
          "name": "stdout"
        }
      ]
    },
    {
      "cell_type": "markdown",
      "metadata": {
        "colab_type": "text",
        "id": "q214ixOGeR35"
      },
      "source": [
        "### Read the csv files [```q4_1.csv```](https://raw.githubusercontent.com/Ipsit1234/SHALA/master/q4_1.csv) and [```q4_2.csv```](https://raw.githubusercontent.com/Ipsit1234/SHALA/master/q4_2.csv) to get samples from two unknown distributions. Choose a significance level and implement the the most general two-sample t-test"
      ]
    },
    {
      "cell_type": "code",
      "metadata": {
        "colab_type": "code",
        "id": "bAsMqWiGdb52",
        "colab": {}
      },
      "source": [
        "sample1 = pd.read_csv('https://raw.githubusercontent.com/Ipsit1234/SHALA/master/q4_1.csv',header=None, names=['index','values'])\n",
        "sample2 = pd.read_csv('https://raw.githubusercontent.com/Ipsit1234/SHALA/master/q4_2.csv',header=None, names=['index','values'])"
      ],
      "execution_count": 0,
      "outputs": []
    },
    {
      "cell_type": "markdown",
      "metadata": {
        "colab_type": "text",
        "id": "yIvOH3yWiTU9"
      },
      "source": [
        "Find the parameters required to compute the T statistic"
      ]
    },
    {
      "cell_type": "code",
      "metadata": {
        "colab_type": "code",
        "id": "_3TBrHZifG2u",
        "colab": {}
      },
      "source": [
        "significance = 0.05\n",
        "mu1 = sample1['values'].mean()\n",
        "mu2 = sample2['values'].mean()\n",
        "s1 = sample1['values'].var()\n",
        "s2 = sample2['values'].var()\n",
        "n1 = len(sample1)\n",
        "n2 = len(sample2)"
      ],
      "execution_count": 0,
      "outputs": []
    },
    {
      "cell_type": "markdown",
      "metadata": {
        "colab_type": "text",
        "id": "3i3gxyQziXD5"
      },
      "source": [
        "Find the degrees of freedom to get the critical value"
      ]
    },
    {
      "cell_type": "code",
      "metadata": {
        "colab_type": "code",
        "id": "p4Hx9UL3flF8",
        "colab": {}
      },
      "source": [
        "x1 = s1/n1\n",
        "x2 = s2/n2\n",
        "df = (x1 + x2)**2 / ((x1**2)/(n1-1) + (x2**2)/(n2-1))"
      ],
      "execution_count": 0,
      "outputs": []
    },
    {
      "cell_type": "markdown",
      "metadata": {
        "colab_type": "text",
        "id": "nyai_S1zihfm"
      },
      "source": [
        "Compare the critical value and the T statistic and conclude whether null hypothesis is accepted or not. Print 'YES' is it is rejected, otherwise print 'NO'."
      ]
    },
    {
      "cell_type": "code",
      "metadata": {
        "colab_type": "code",
        "id": "ST8J42mAfn0R",
        "outputId": "a7ff1ec5-3ff4-4ece-d544-d57913674a4c",
        "colab": {
          "base_uri": "https://localhost:8080/",
          "height": 34
        }
      },
      "source": [
        "T = (mu1 - mu2)/ (np.sqrt((s1/n1) + (s2/n2)))\n",
        "critical_value = stats.t.pdf((1-significance)/2,df)\n",
        "\n",
        "if np.abs(T) > critical_value:\n",
        "    print('YES')\n",
        "else:\n",
        "    print('NO')"
      ],
      "execution_count": 0,
      "outputs": [
        {
          "output_type": "stream",
          "text": [
            "YES\n"
          ],
          "name": "stdout"
        }
      ]
    },
    {
      "cell_type": "markdown",
      "metadata": {
        "colab_type": "text",
        "id": "SrOP9BwSiwVc"
      },
      "source": [
        "Plot the distribution of both the samples to visualize"
      ]
    },
    {
      "cell_type": "code",
      "metadata": {
        "colab_type": "code",
        "id": "omfVDZqxfyAM",
        "outputId": "c1da1aef-b236-4fc7-afb0-16703708beaf",
        "colab": {
          "base_uri": "https://localhost:8080/",
          "height": 265
        }
      },
      "source": [
        "sns.distplot(sample1.values)\n",
        "\n",
        "sns.distplot(sample2.values)\n",
        "plt.legend(['first sample','second sample'])\n",
        "plt.show()"
      ],
      "execution_count": 0,
      "outputs": [
        {
          "output_type": "display_data",
          "data": {
            "image/png": "[encoded data removed]",
            "text/plain": [
              "<Figure size 432x288 with 1 Axes>"
            ]
          },
          "metadata": {
            "tags": [],
            "needs_background": "light"
          }
        }
      ]
    },
    {
      "cell_type": "code",
      "metadata": {
        "colab_type": "code",
        "id": "Z-5ammelgOnA",
        "colab": {}
      },
      "source": [
        ""
      ],
      "execution_count": 0,
      "outputs": []
    }
  ]
}