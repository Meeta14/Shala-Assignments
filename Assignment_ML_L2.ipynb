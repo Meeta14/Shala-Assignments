{
  "nbformat": 4,
  "nbformat_minor": 0,
  "metadata": {
    "colab": {
      "name": "Assignment_ML_L2.ipynb",
      "provenance": [],
      "collapsed_sections": [],
      "include_colab_link": true
    },
    "kernelspec": {
      "display_name": "Python 3",
      "language": "python",
      "name": "python3"
    },
    "language_info": {
      "codemirror_mode": {
        "name": "ipython",
        "version": 3
      },
      "file_extension": ".py",
      "mimetype": "text/x-python",
      "name": "python",
      "nbconvert_exporter": "python",
      "pygments_lexer": "ipython3",
      "version": "3.7.4"
    }
  },
  "cells": [
    {
      "cell_type": "markdown",
      "metadata": {
        "id": "view-in-github",
        "colab_type": "text"
      },
      "source": [
        "<a href=\"https://colab.research.google.com/github/Meeta14/Shala-Assignments/blob/master/Assignment_ML_L2.ipynb\" target=\"_parent\"><img src=\"https://colab.research.google.com/assets/colab-badge.svg\" alt=\"Open In Colab\"/></a>"
      ]
    },
    {
      "cell_type": "markdown",
      "metadata": {
        "colab_type": "text",
        "id": "RNGCt-t9hq7H"
      },
      "source": [
        "# Assignment 2: **Machine learning with tree based models** "
      ]
    },
    {
      "cell_type": "markdown",
      "metadata": {
        "colab_type": "text",
        "id": "AlmhCLRrfoG4"
      },
      "source": [
        "In this assignment, you will work on the **Titanic** dataset and use machine learning to create a model that predicts which passengers survived the **Titanic** shipwreck. "
      ]
    },
    {
      "cell_type": "markdown",
      "metadata": {
        "colab_type": "text",
        "id": "ysVvT5atiUCf"
      },
      "source": [
        "---\n",
        "## About the dataset:\n",
        "---\n",
        "* The column named  `Survived` is the label and the remaining columns are features. \n",
        "* The features can be described as given below:\n",
        "  <table>\n",
        "  <thead>\n",
        "    <tr>\n",
        "      <th>Variable</th>\n",
        "      <th>Definition </th>\n",
        "    </tr>\n",
        "  </thead>\n",
        "  <tbody>\n",
        "    <tr>\n",
        "      <td>pclass</td>\n",
        "      <td>Ticket class\t</td>\n",
        "    </tr>\n",
        "    <tr>\n",
        "      <td>SibSp</td>\n",
        "      <td>Number of siblings / spouses aboard the Titanic</td>\n",
        "    </tr>\n",
        "    <tr>\n",
        "      <td>Parch</td>\n",
        "      <td>Number of parents / children aboard the Titanic</td>\n",
        "    </tr>\n",
        "    <tr>\n",
        "      <td>Ticket</td>\n",
        "      <td>Ticket number</td>\n",
        "    </tr>\n",
        "    <tr>\n",
        "      <td>Embarked</td>\n",
        "      <td>Port of Embarkation: C = Cherbourg, Q = Queenstown, S = Southampton</td>\n",
        "    </tr>\n",
        "  </tbody>\n",
        "</table> \t"
      ]
    },
    {
      "cell_type": "markdown",
      "metadata": {
        "colab_type": "text",
        "id": "2XYBBIcKkXtu"
      },
      "source": [
        "---\n",
        "## Instructions\n",
        "---\n",
        "* Apply suitable data pre-processing techniques, if needed. \n",
        "* Implement a few classifiers to create your model and compare the performance metrics by plotting the curves like roc_auc, confusion matrix, etc. "
      ]
    },
    {
      "cell_type": "code",
      "metadata": {
        "colab_type": "code",
        "id": "KE79bLl6iCx2",
        "colab": {
          "base_uri": "https://localhost:8080/",
          "height": 70
        },
        "outputId": "74240da8-d99e-4568-cafd-a174ecf3f30b"
      },
      "source": [
        "import numpy as np\n",
        "import pandas as pd\n",
        "import matplotlib.pyplot as plt\n",
        "import seaborn as sns "
      ],
      "execution_count": 1,
      "outputs": [
        {
          "output_type": "stream",
          "text": [
            "/usr/local/lib/python3.6/dist-packages/statsmodels/tools/_testing.py:19: FutureWarning: pandas.util.testing is deprecated. Use the functions in the public API at pandas.testing instead.\n",
            "  import pandas.util.testing as tm\n"
          ],
          "name": "stderr"
        }
      ]
    },
    {
      "cell_type": "code",
      "metadata": {
        "colab_type": "code",
        "id": "eoqpA6qmZ_JT",
        "outputId": "4defb6cd-8e5b-41e1-a92a-bbd65df87e3b",
        "colab": {
          "base_uri": "https://localhost:8080/",
          "height": 195
        }
      },
      "source": [
        "url = 'https://raw.githubusercontent.com/shala2020/shala2020.github.io/master/Lecture_Materials/Assignments/MachineLearning/L2/titanic.csv'\n",
        "titanic_data = pd.read_csv(url)\n",
        "titanic_data.head()"
      ],
      "execution_count": 2,
      "outputs": [
        {
          "output_type": "execute_result",
          "data": {
            "text/html": [
              "<div>\n",
              "<style scoped>\n",
              "    .dataframe tbody tr th:only-of-type {\n",
              "        vertical-align: middle;\n",
              "    }\n",
              "\n",
              "    .dataframe tbody tr th {\n",
              "        vertical-align: top;\n",
              "    }\n",
              "\n",
              "    .dataframe thead th {\n",
              "        text-align: right;\n",
              "    }\n",
              "</style>\n",
              "<table border=\"1\" class=\"dataframe\">\n",
              "  <thead>\n",
              "    <tr style=\"text-align: right;\">\n",
              "      <th></th>\n",
              "      <th>PassengerId</th>\n",
              "      <th>Survived</th>\n",
              "      <th>Pclass</th>\n",
              "      <th>Name</th>\n",
              "      <th>Sex</th>\n",
              "      <th>Age</th>\n",
              "      <th>SibSp</th>\n",
              "      <th>Parch</th>\n",
              "      <th>Ticket</th>\n",
              "      <th>Fare</th>\n",
              "      <th>Cabin</th>\n",
              "      <th>Embarked</th>\n",
              "    </tr>\n",
              "  </thead>\n",
              "  <tbody>\n",
              "    <tr>\n",
              "      <th>0</th>\n",
              "      <td>1</td>\n",
              "      <td>0</td>\n",
              "      <td>3</td>\n",
              "      <td>Braund, Mr. Owen Harris</td>\n",
              "      <td>male</td>\n",
              "      <td>22.0</td>\n",
              "      <td>1</td>\n",
              "      <td>0</td>\n",
              "      <td>A/5 21171</td>\n",
              "      <td>7.2500</td>\n",
              "      <td>NaN</td>\n",
              "      <td>S</td>\n",
              "    </tr>\n",
              "    <tr>\n",
              "      <th>1</th>\n",
              "      <td>2</td>\n",
              "      <td>1</td>\n",
              "      <td>1</td>\n",
              "      <td>Cumings, Mrs. John Bradley (Florence Briggs Th...</td>\n",
              "      <td>female</td>\n",
              "      <td>38.0</td>\n",
              "      <td>1</td>\n",
              "      <td>0</td>\n",
              "      <td>PC 17599</td>\n",
              "      <td>71.2833</td>\n",
              "      <td>C85</td>\n",
              "      <td>C</td>\n",
              "    </tr>\n",
              "    <tr>\n",
              "      <th>2</th>\n",
              "      <td>3</td>\n",
              "      <td>1</td>\n",
              "      <td>3</td>\n",
              "      <td>Heikkinen, Miss. Laina</td>\n",
              "      <td>female</td>\n",
              "      <td>26.0</td>\n",
              "      <td>0</td>\n",
              "      <td>0</td>\n",
              "      <td>STON/O2. 3101282</td>\n",
              "      <td>7.9250</td>\n",
              "      <td>NaN</td>\n",
              "      <td>S</td>\n",
              "    </tr>\n",
              "    <tr>\n",
              "      <th>3</th>\n",
              "      <td>4</td>\n",
              "      <td>1</td>\n",
              "      <td>1</td>\n",
              "      <td>Futrelle, Mrs. Jacques Heath (Lily May Peel)</td>\n",
              "      <td>female</td>\n",
              "      <td>35.0</td>\n",
              "      <td>1</td>\n",
              "      <td>0</td>\n",
              "      <td>113803</td>\n",
              "      <td>53.1000</td>\n",
              "      <td>C123</td>\n",
              "      <td>S</td>\n",
              "    </tr>\n",
              "    <tr>\n",
              "      <th>4</th>\n",
              "      <td>5</td>\n",
              "      <td>0</td>\n",
              "      <td>3</td>\n",
              "      <td>Allen, Mr. William Henry</td>\n",
              "      <td>male</td>\n",
              "      <td>35.0</td>\n",
              "      <td>0</td>\n",
              "      <td>0</td>\n",
              "      <td>373450</td>\n",
              "      <td>8.0500</td>\n",
              "      <td>NaN</td>\n",
              "      <td>S</td>\n",
              "    </tr>\n",
              "  </tbody>\n",
              "</table>\n",
              "</div>"
            ],
            "text/plain": [
              "   PassengerId  Survived  Pclass  ...     Fare Cabin  Embarked\n",
              "0            1         0       3  ...   7.2500   NaN         S\n",
              "1            2         1       1  ...  71.2833   C85         C\n",
              "2            3         1       3  ...   7.9250   NaN         S\n",
              "3            4         1       1  ...  53.1000  C123         S\n",
              "4            5         0       3  ...   8.0500   NaN         S\n",
              "\n",
              "[5 rows x 12 columns]"
            ]
          },
          "metadata": {
            "tags": []
          },
          "execution_count": 2
        }
      ]
    },
    {
      "cell_type": "code",
      "metadata": {
        "colab_type": "code",
        "id": "WzDpMsWdiJUs",
        "outputId": "23a2c167-9c6a-4293-d96b-7feca503b2fd",
        "colab": {
          "base_uri": "https://localhost:8080/",
          "height": 34
        }
      },
      "source": [
        "titanic_data.shape"
      ],
      "execution_count": 3,
      "outputs": [
        {
          "output_type": "execute_result",
          "data": {
            "text/plain": [
              "(891, 12)"
            ]
          },
          "metadata": {
            "tags": []
          },
          "execution_count": 3
        }
      ]
    },
    {
      "cell_type": "code",
      "metadata": {
        "colab_type": "code",
        "id": "PsDAl89fk56N",
        "outputId": "ca07e34a-9eb9-4690-9340-704caee81aa8",
        "scrolled": true,
        "colab": {
          "base_uri": "https://localhost:8080/",
          "height": 235
        }
      },
      "source": [
        "print(titanic_data.isna().sum())"
      ],
      "execution_count": 4,
      "outputs": [
        {
          "output_type": "stream",
          "text": [
            "PassengerId      0\n",
            "Survived         0\n",
            "Pclass           0\n",
            "Name             0\n",
            "Sex              0\n",
            "Age            177\n",
            "SibSp            0\n",
            "Parch            0\n",
            "Ticket           0\n",
            "Fare             0\n",
            "Cabin          687\n",
            "Embarked         2\n",
            "dtype: int64\n"
          ],
          "name": "stdout"
        }
      ]
    },
    {
      "cell_type": "code",
      "metadata": {
        "id": "a77dwa4_GAkK",
        "colab_type": "code",
        "colab": {
          "base_uri": "https://localhost:8080/",
          "height": 235
        },
        "outputId": "2b9ff89c-cecd-4b9c-f9bb-cacecc2329e9"
      },
      "source": [
        "titanic_data['Age'].fillna(value = titanic_data['Age'].mean(), inplace = True)\n",
        "\n",
        "print(titanic_data.isna().sum())"
      ],
      "execution_count": 5,
      "outputs": [
        {
          "output_type": "stream",
          "text": [
            "PassengerId      0\n",
            "Survived         0\n",
            "Pclass           0\n",
            "Name             0\n",
            "Sex              0\n",
            "Age              0\n",
            "SibSp            0\n",
            "Parch            0\n",
            "Ticket           0\n",
            "Fare             0\n",
            "Cabin          687\n",
            "Embarked         2\n",
            "dtype: int64\n"
          ],
          "name": "stdout"
        }
      ]
    },
    {
      "cell_type": "code",
      "metadata": {
        "id": "jTjWOehVGAkO",
        "colab_type": "code",
        "colab": {}
      },
      "source": [
        "X = titanic_data.drop(['Name','Cabin','Ticket'], axis = 1)\n",
        "X = pd.get_dummies(X)"
      ],
      "execution_count": 0,
      "outputs": []
    },
    {
      "cell_type": "code",
      "metadata": {
        "id": "U3EwdhavHBTj",
        "colab_type": "code",
        "colab": {
          "base_uri": "https://localhost:8080/",
          "height": 252
        },
        "outputId": "66acd493-2c7e-473a-98cd-51e0aedc43e8"
      },
      "source": [
        "X = X.dropna()\n",
        "print(X.shape)\n",
        "print(X.isna().sum())"
      ],
      "execution_count": 22,
      "outputs": [
        {
          "output_type": "stream",
          "text": [
            "(891, 12)\n",
            "PassengerId    0\n",
            "Survived       0\n",
            "Pclass         0\n",
            "Age            0\n",
            "SibSp          0\n",
            "Parch          0\n",
            "Fare           0\n",
            "Sex_female     0\n",
            "Sex_male       0\n",
            "Embarked_C     0\n",
            "Embarked_Q     0\n",
            "Embarked_S     0\n",
            "dtype: int64\n"
          ],
          "name": "stdout"
        }
      ]
    },
    {
      "cell_type": "code",
      "metadata": {
        "scrolled": true,
        "id": "2DhBPOLPGAkS",
        "colab_type": "code",
        "colab": {
          "base_uri": "https://localhost:8080/",
          "height": 882
        },
        "outputId": "bc29c9a0-b499-40cd-f84c-3044dec0d085"
      },
      "source": [
        "sns.set(style=\"darkgrid\")\n",
        "X.hist(figsize=(15,15),color='Green')\n",
        "plt.show()"
      ],
      "execution_count": 23,
      "outputs": [
        {
          "output_type": "display_data",
          "data": {
            "image/png": "[encoded data removed]",
            "text/plain": [
              "<Figure size 1080x1080 with 12 Axes>"
            ]
          },
          "metadata": {
            "tags": []
          }
        }
      ]
    },
    {
      "cell_type": "code",
      "metadata": {
        "id": "cuowh5TvGAkW",
        "colab_type": "code",
        "colab": {}
      },
      "source": [
        "# survived, age, sibsp, parch, fare, body\n",
        "def normalize (x):\n",
        "    output = (x - x.mean())/ (x.std())\n",
        "    return output\n",
        "\n",
        "X['Age'] = normalize(X['Age'])\n",
        "X['Fare'] = normalize(X['Fare'])"
      ],
      "execution_count": 0,
      "outputs": []
    },
    {
      "cell_type": "code",
      "metadata": {
        "scrolled": true,
        "id": "ZF7xWYv3GAkZ",
        "colab_type": "code",
        "colab": {
          "base_uri": "https://localhost:8080/",
          "height": 195
        },
        "outputId": "e50344a9-02cf-474f-9898-0e6eb72e94b0"
      },
      "source": [
        "X.head()"
      ],
      "execution_count": 13,
      "outputs": [
        {
          "output_type": "execute_result",
          "data": {
            "text/html": [
              "<div>\n",
              "<style scoped>\n",
              "    .dataframe tbody tr th:only-of-type {\n",
              "        vertical-align: middle;\n",
              "    }\n",
              "\n",
              "    .dataframe tbody tr th {\n",
              "        vertical-align: top;\n",
              "    }\n",
              "\n",
              "    .dataframe thead th {\n",
              "        text-align: right;\n",
              "    }\n",
              "</style>\n",
              "<table border=\"1\" class=\"dataframe\">\n",
              "  <thead>\n",
              "    <tr style=\"text-align: right;\">\n",
              "      <th></th>\n",
              "      <th>PassengerId</th>\n",
              "      <th>Survived</th>\n",
              "      <th>Pclass</th>\n",
              "      <th>Age</th>\n",
              "      <th>SibSp</th>\n",
              "      <th>Parch</th>\n",
              "      <th>Fare</th>\n",
              "      <th>Sex_female</th>\n",
              "      <th>Sex_male</th>\n",
              "      <th>Embarked_C</th>\n",
              "      <th>Embarked_Q</th>\n",
              "      <th>Embarked_S</th>\n",
              "    </tr>\n",
              "  </thead>\n",
              "  <tbody>\n",
              "    <tr>\n",
              "      <th>0</th>\n",
              "      <td>1</td>\n",
              "      <td>0</td>\n",
              "      <td>3</td>\n",
              "      <td>-0.592148</td>\n",
              "      <td>1</td>\n",
              "      <td>0</td>\n",
              "      <td>-0.502163</td>\n",
              "      <td>0</td>\n",
              "      <td>1</td>\n",
              "      <td>0</td>\n",
              "      <td>0</td>\n",
              "      <td>1</td>\n",
              "    </tr>\n",
              "    <tr>\n",
              "      <th>1</th>\n",
              "      <td>2</td>\n",
              "      <td>1</td>\n",
              "      <td>1</td>\n",
              "      <td>0.638430</td>\n",
              "      <td>1</td>\n",
              "      <td>0</td>\n",
              "      <td>0.786404</td>\n",
              "      <td>1</td>\n",
              "      <td>0</td>\n",
              "      <td>1</td>\n",
              "      <td>0</td>\n",
              "      <td>0</td>\n",
              "    </tr>\n",
              "    <tr>\n",
              "      <th>2</th>\n",
              "      <td>3</td>\n",
              "      <td>1</td>\n",
              "      <td>3</td>\n",
              "      <td>-0.284503</td>\n",
              "      <td>0</td>\n",
              "      <td>0</td>\n",
              "      <td>-0.488580</td>\n",
              "      <td>1</td>\n",
              "      <td>0</td>\n",
              "      <td>0</td>\n",
              "      <td>0</td>\n",
              "      <td>1</td>\n",
              "    </tr>\n",
              "    <tr>\n",
              "      <th>3</th>\n",
              "      <td>4</td>\n",
              "      <td>1</td>\n",
              "      <td>1</td>\n",
              "      <td>0.407697</td>\n",
              "      <td>1</td>\n",
              "      <td>0</td>\n",
              "      <td>0.420494</td>\n",
              "      <td>1</td>\n",
              "      <td>0</td>\n",
              "      <td>0</td>\n",
              "      <td>0</td>\n",
              "      <td>1</td>\n",
              "    </tr>\n",
              "    <tr>\n",
              "      <th>4</th>\n",
              "      <td>5</td>\n",
              "      <td>0</td>\n",
              "      <td>3</td>\n",
              "      <td>0.407697</td>\n",
              "      <td>0</td>\n",
              "      <td>0</td>\n",
              "      <td>-0.486064</td>\n",
              "      <td>0</td>\n",
              "      <td>1</td>\n",
              "      <td>0</td>\n",
              "      <td>0</td>\n",
              "      <td>1</td>\n",
              "    </tr>\n",
              "  </tbody>\n",
              "</table>\n",
              "</div>"
            ],
            "text/plain": [
              "   PassengerId  Survived  Pclass  ...  Embarked_C  Embarked_Q  Embarked_S\n",
              "0            1         0       3  ...           0           0           1\n",
              "1            2         1       1  ...           1           0           0\n",
              "2            3         1       3  ...           0           0           1\n",
              "3            4         1       1  ...           0           0           1\n",
              "4            5         0       3  ...           0           0           1\n",
              "\n",
              "[5 rows x 12 columns]"
            ]
          },
          "metadata": {
            "tags": []
          },
          "execution_count": 13
        }
      ]
    },
    {
      "cell_type": "code",
      "metadata": {
        "id": "iuRa0klAGAkd",
        "colab_type": "code",
        "colab": {}
      },
      "source": [
        "y = X.Survived\n",
        "X = X.drop(['PassengerId','Survived'], axis=1)"
      ],
      "execution_count": 0,
      "outputs": []
    },
    {
      "cell_type": "markdown",
      "metadata": {
        "id": "5jBkpYseGAkg",
        "colab_type": "text"
      },
      "source": [
        "---\n",
        "## Decision Tree\n",
        "---"
      ]
    },
    {
      "cell_type": "code",
      "metadata": {
        "id": "FKQS60D_GAkh",
        "colab_type": "code",
        "colab": {}
      },
      "source": [
        "# Import DecisionTreeClassifier\n",
        "from sklearn.tree import DecisionTreeClassifier\n",
        "# Import train_test_split\n",
        "from sklearn.model_selection import train_test_split\n",
        "# Import accuracy_score\n",
        "from sklearn.metrics import accuracy_score, roc_curve\n",
        "\n",
        "from sklearn.metrics import mean_absolute_error, accuracy_score, confusion_matrix, classification_report, roc_auc_score"
      ],
      "execution_count": 0,
      "outputs": []
    },
    {
      "cell_type": "code",
      "metadata": {
        "id": "CX9FBaWzGAkk",
        "colab_type": "code",
        "colab": {}
      },
      "source": [
        "# Split dataset into 80% train, 20% test\n",
        "X_train, X_test, y_train, y_test= train_test_split(X, y, test_size=0.2, stratify=y, random_state=1)"
      ],
      "execution_count": 0,
      "outputs": []
    },
    {
      "cell_type": "code",
      "metadata": {
        "id": "1Pm33Fw1GAkn",
        "colab_type": "code",
        "colab": {}
      },
      "source": [
        "depth = [9, 10, 11, 12, 13, 14, 16, 18, 21]\n",
        "train= []\n",
        "test = []\n",
        "for i in (depth):\n",
        "    clf = DecisionTreeClassifier(max_depth= i,random_state = 0)\n",
        "    clf.fit(X_train, y_train)\n",
        "    y_pred_dt = clf.predict(X_test)\n",
        "    score = clf.score(X_test, y_test)\n",
        "    test.append(clf.score(X_test, y_test))\n",
        "    train.append(clf.score(X_train, y_train))\n",
        "    # print('Depth of the Decision Tree is:-', i)\n",
        "    # print('Accuracy of Decision Tree regression classifier on test set: {:.4f}'.format(clf.score(X_test, y_test)))\n",
        "    # print('Accuracy of Decision Tree regression classifier on train set: {:.4f}'.format(clf.score(X_train, y_train)))\n",
        "    # print('\\n')"
      ],
      "execution_count": 0,
      "outputs": []
    },
    {
      "cell_type": "code",
      "metadata": {
        "id": "6Xg63mmiKB8n",
        "colab_type": "code",
        "colab": {
          "base_uri": "https://localhost:8080/",
          "height": 50
        },
        "outputId": "fdea5c55-99db-4e8d-ca1d-9064fc88f833"
      },
      "source": [
        "print(train)\n",
        "print(test)"
      ],
      "execution_count": 29,
      "outputs": [
        {
          "output_type": "stream",
          "text": [
            "[0.922752808988764, 0.9339887640449438, 0.9410112359550562, 0.9508426966292135, 0.9578651685393258, 0.9634831460674157, 0.9719101123595506, 0.9775280898876404, 0.9831460674157303]\n",
            "[0.8156424581005587, 0.8379888268156425, 0.8324022346368715, 0.8435754189944135, 0.8156424581005587, 0.8156424581005587, 0.8044692737430168, 0.7988826815642458, 0.8044692737430168]\n"
          ],
          "name": "stdout"
        }
      ]
    },
    {
      "cell_type": "code",
      "metadata": {
        "id": "sWdpmqOsIxcm",
        "colab_type": "code",
        "colab": {
          "base_uri": "https://localhost:8080/",
          "height": 285
        },
        "outputId": "2c863109-e90d-4eca-ef46-127c95d3c5df"
      },
      "source": [
        "plt.plot(depth, train, label='train')\n",
        "plt.plot(depth, test, label = 'test')\n",
        "plt.ylabel('score')\n",
        "plt.xlabel('decision tree depth')\n",
        "plt.legend(loc='lower right')\n",
        "plt.show()"
      ],
      "execution_count": 32,
      "outputs": [
        {
          "output_type": "display_data",
          "data": {
            "image/png": "[encoded data removed]",
            "text/plain": [
              "<Figure size 432x288 with 1 Axes>"
            ]
          },
          "metadata": {
            "tags": []
          }
        }
      ]
    },
    {
      "cell_type": "code",
      "metadata": {
        "id": "UAqBHzTvGAkq",
        "colab_type": "code",
        "colab": {
          "base_uri": "https://localhost:8080/",
          "height": 84
        },
        "outputId": "c31234be-e8d1-4482-fa57-40d1b178dcd0"
      },
      "source": [
        "print('from above graph it is clear that maxinum accuracy occurs at depth = 12')\n",
        "clf = DecisionTreeClassifier(max_depth= 12, random_state = 111)\n",
        "clf.fit(X_train, y_train)\n",
        "y_pred_dt = clf.predict(X_test)\n",
        "\n",
        "print('Depth of the Decision Tree is:-', clf.get_depth())\n",
        "print('Accuracy of Decision Tree regression classifier on test set: {:.4f}'.format(clf.score(X_test, y_test)))\n",
        "print('Accuracy of Decision Tree regression classifier on train set: {:.4f}'.format(clf.score(X_train, y_train)))"
      ],
      "execution_count": 33,
      "outputs": [
        {
          "output_type": "stream",
          "text": [
            "from above graph it is clear that maxinum accuracy occurs at depth = 12\n",
            "Depth of the Decision Tree is:- 12\n",
            "Accuracy of Decision Tree regression classifier on test set: 0.8212\n",
            "Accuracy of Decision Tree regression classifier on train set: 0.9508\n"
          ],
          "name": "stdout"
        }
      ]
    },
    {
      "cell_type": "code",
      "metadata": {
        "id": "W2fg8AOXGAkt",
        "colab_type": "code",
        "colab": {
          "base_uri": "https://localhost:8080/",
          "height": 269
        },
        "outputId": "86453cfb-2edf-445d-b3d6-9d55f9f4deed"
      },
      "source": [
        "print('roc_auc_score of Decision Tree regression classifier on test set: {:.4f}'.format(roc_auc_score(y_test, y_pred_dt)))\n",
        "print('\\n')\n",
        "print(confusion_matrix(y_test, y_pred_dt))\n",
        "print(\"=\"*60)\n",
        "print(classification_report(y_test, y_pred_dt))"
      ],
      "execution_count": 34,
      "outputs": [
        {
          "output_type": "stream",
          "text": [
            "roc_auc_score of Decision Tree regression classifier on test set: 0.7951\n",
            "\n",
            "\n",
            "[[100  10]\n",
            " [ 22  47]]\n",
            "============================================================\n",
            "              precision    recall  f1-score   support\n",
            "\n",
            "           0       0.82      0.91      0.86       110\n",
            "           1       0.82      0.68      0.75        69\n",
            "\n",
            "    accuracy                           0.82       179\n",
            "   macro avg       0.82      0.80      0.80       179\n",
            "weighted avg       0.82      0.82      0.82       179\n",
            "\n"
          ],
          "name": "stdout"
        }
      ]
    },
    {
      "cell_type": "code",
      "metadata": {
        "id": "PXjp-kt2GAkx",
        "colab_type": "code",
        "colab": {
          "base_uri": "https://localhost:8080/",
          "height": 301
        },
        "outputId": "663a99b5-43b9-4df4-d286-d77079bcc69b"
      },
      "source": [
        "fper, tper, thresholds = roc_curve(y_test, y_pred_dt) \n",
        "plt.plot(fper, tper)\n",
        "plt.plot([0,1], [0,1], 'k--')\n",
        "plt.xlabel('False Positive Rate')\n",
        "plt.ylabel('True Positive Rate')\n",
        "plt.title('XGBoost ROC curve')\n",
        "# show the plot\n",
        "plt.show()"
      ],
      "execution_count": 35,
      "outputs": [
        {
          "output_type": "display_data",
          "data": {
            "image/png": "[encoded data removed]",
            "text/plain": [
              "<Figure size 432x288 with 1 Axes>"
            ]
          },
          "metadata": {
            "tags": []
          }
        }
      ]
    },
    {
      "cell_type": "markdown",
      "metadata": {
        "id": "iRsn8A9dGAk1",
        "colab_type": "text"
      },
      "source": [
        "---\n",
        "## Linear Regression\n",
        "---"
      ]
    },
    {
      "cell_type": "markdown",
      "metadata": {
        "id": "nWJUlHWaGAk2",
        "colab_type": "text"
      },
      "source": [
        "from sklearn.linear_model import LinearRegression\n",
        "lr = LinearRegression()\n",
        "lr.fit(X_train, y_train)"
      ]
    },
    {
      "cell_type": "code",
      "metadata": {
        "id": "9tAnG8FzGAk2",
        "colab_type": "code",
        "colab": {
          "base_uri": "https://localhost:8080/",
          "height": 34
        },
        "outputId": "e29939a7-468e-4e6d-87ea-41ec6f5fde4b"
      },
      "source": [
        "from sklearn.metrics import mean_squared_error as MSE\n",
        "from sklearn.linear_model import LogisticRegression\n",
        "lr = LogisticRegression(C=1, solver='liblinear').fit(X_train,y_train)\n",
        "# Predict test set labels \n",
        "y_pred_lr = lr.predict(X_test)\n",
        "\n",
        "# Compute mse_lr\n",
        "mse_lr = MSE(y_test, y_pred_lr)\n",
        "\n",
        "# Compute rmse_lr\n",
        "rmse_lr = mse_lr**0.5\n",
        "\n",
        "# Print rmse_lr\n",
        "print('Linear Regression test set RMSE: {:.2f}'.format(rmse_lr))"
      ],
      "execution_count": 40,
      "outputs": [
        {
          "output_type": "stream",
          "text": [
            "Linear Regression test set RMSE: 0.44\n"
          ],
          "name": "stdout"
        }
      ]
    },
    {
      "cell_type": "code",
      "metadata": {
        "id": "3VwhEdYEGAk6",
        "colab_type": "code",
        "colab": {
          "base_uri": "https://localhost:8080/",
          "height": 34
        },
        "outputId": "835f8aa8-7e77-45e5-854a-d1fdb5bdf48e"
      },
      "source": [
        "# Import DecisionTreeRegressor from sklearn.tree\n",
        "from sklearn.tree import DecisionTreeRegressor\n",
        "\n",
        "# Instantiate dt\n",
        "dt = DecisionTreeRegressor(max_depth=8,\n",
        "             min_samples_leaf=0.13,\n",
        "            random_state=3)\n",
        "\n",
        "# Fit dt to the training set\n",
        "dt.fit(X_train, y_train)\n",
        "\n",
        "# Compute y_pred\n",
        "y_pred = dt.predict(X_test)\n",
        "\n",
        "# Compute mse_dt\n",
        "mse_dt = MSE(y_test, y_pred)\n",
        "\n",
        "# Compute rmse_dt\n",
        "rmse_dt = mse_dt**0.5\n",
        "\n",
        "# Print rmse_dt\n",
        "print(\"Test set RMSE of dt: {:.2f}\".format(rmse_dt))"
      ],
      "execution_count": 41,
      "outputs": [
        {
          "output_type": "stream",
          "text": [
            "Test set RMSE of dt: 0.38\n"
          ],
          "name": "stdout"
        }
      ]
    },
    {
      "cell_type": "code",
      "metadata": {
        "id": "59JKbnUWGAk9",
        "colab_type": "code",
        "colab": {
          "base_uri": "https://localhost:8080/",
          "height": 269
        },
        "outputId": "54308e01-508b-43f1-c6d7-461cd1d6c55c"
      },
      "source": [
        "print('roc_auc_score of Decision Tree regression classifier on test set: {:.4f}'.format(roc_auc_score(y_test, y_pred_lr)))\n",
        "print('\\n')\n",
        "print(confusion_matrix(y_test, y_pred_lr))\n",
        "print(\"=\"*60)\n",
        "print(classification_report(y_test, y_pred_lr))"
      ],
      "execution_count": 43,
      "outputs": [
        {
          "output_type": "stream",
          "text": [
            "roc_auc_score of Decision Tree regression classifier on test set: 0.7842\n",
            "\n",
            "\n",
            "[[96 14]\n",
            " [21 48]]\n",
            "============================================================\n",
            "              precision    recall  f1-score   support\n",
            "\n",
            "           0       0.82      0.87      0.85       110\n",
            "           1       0.77      0.70      0.73        69\n",
            "\n",
            "    accuracy                           0.80       179\n",
            "   macro avg       0.80      0.78      0.79       179\n",
            "weighted avg       0.80      0.80      0.80       179\n",
            "\n"
          ],
          "name": "stdout"
        }
      ]
    },
    {
      "cell_type": "code",
      "metadata": {
        "id": "PoxnVIiXGAlA",
        "colab_type": "code",
        "colab": {
          "base_uri": "https://localhost:8080/",
          "height": 301
        },
        "outputId": "6da013b3-6f1c-4431-8856-059e0332a69f"
      },
      "source": [
        "fper, tper, thresholds = roc_curve(y_test, y_pred_dt) \n",
        "plt.plot(fper, tper)\n",
        "plt.plot([0,1], [0,1], 'k--')\n",
        "plt.xlabel('False Positive Rate')\n",
        "plt.ylabel('True Positive Rate')\n",
        "plt.title('XGBoost ROC curve')\n",
        "# show the plot\n",
        "plt.show()"
      ],
      "execution_count": 44,
      "outputs": [
        {
          "output_type": "display_data",
          "data": {
            "image/png": "[encoded data removed]",
            "text/plain": [
              "<Figure size 432x288 with 1 Axes>"
            ]
          },
          "metadata": {
            "tags": []
          }
        }
      ]
    },
    {
      "cell_type": "markdown",
      "metadata": {
        "id": "7-DHLZmiGAlC",
        "colab_type": "text"
      },
      "source": [
        "---\n",
        "## Voting Classifier\n",
        "---"
      ]
    },
    {
      "cell_type": "code",
      "metadata": {
        "id": "iWhK57FTGAlD",
        "colab_type": "code",
        "colab": {}
      },
      "source": [
        "# Import functions to compute accuracy and split data\n",
        "from sklearn.metrics import accuracy_score\n",
        "from sklearn.model_selection import train_test_split\n",
        "# Import models, including VotingClassifier meta-model\n",
        "from sklearn.linear_model import LogisticRegression\n",
        "from sklearn.tree import DecisionTreeClassifier\n",
        "from sklearn.neighbors import KNeighborsClassifier as KNN\n",
        "from sklearn.ensemble import VotingClassifier\n",
        "# Set seed for reproducibility\n",
        "SEED = 11"
      ],
      "execution_count": 0,
      "outputs": []
    },
    {
      "cell_type": "code",
      "metadata": {
        "id": "HbrY8WoMGAlG",
        "colab_type": "code",
        "colab": {}
      },
      "source": [
        "# Split data into 70% train and 30% test\n",
        "X_train, X_test, y_train, y_test = train_test_split(X, y, test_size= 0.3, random_state= SEED)\n",
        "# Instantiate individual classifiers\n",
        "lr = LogisticRegression(random_state=SEED)\n",
        "knn = KNN()\n",
        "dt = DecisionTreeClassifier(random_state=SEED)\n",
        "# Define a list called classifier that contains the tuples (classifier_name, classifier)\n",
        "classifiers = [('Logistic Regression', lr),\n",
        "('K Nearest Neighbours', knn),\n",
        "('Classification Tree', dt)]"
      ],
      "execution_count": 0,
      "outputs": []
    },
    {
      "cell_type": "code",
      "metadata": {
        "id": "BK_sWqfIGAlJ",
        "colab_type": "code",
        "colab": {
          "base_uri": "https://localhost:8080/",
          "height": 67
        },
        "outputId": "ca790060-36a5-441b-d7f4-5df5755d3b39"
      },
      "source": [
        "import warnings\n",
        "warnings.filterwarnings(\"ignore\")\n",
        "# Iterate over the defined list of tuples containing the classifiers\n",
        "for clf_name, clf in classifiers:\n",
        "  #fit clf to the training set\n",
        "  clf.fit(X_train, y_train)\n",
        "  # Predict the labels of the test set\n",
        "  y_pred = clf.predict(X_test)\n",
        "  # Evaluate the accuracy of clf on the test set\n",
        "  print('{:s} : {:.3f}'.format(clf_name, accuracy_score(y_test, y_pred)))"
      ],
      "execution_count": 47,
      "outputs": [
        {
          "output_type": "stream",
          "text": [
            "Logistic Regression : 0.836\n",
            "K Nearest Neighbours : 0.840\n",
            "Classification Tree : 0.776\n"
          ],
          "name": "stdout"
        }
      ]
    },
    {
      "cell_type": "code",
      "metadata": {
        "id": "cy5cTW8WGAlN",
        "colab_type": "code",
        "colab": {
          "base_uri": "https://localhost:8080/",
          "height": 34
        },
        "outputId": "ba3cbda5-0dd2-4b9b-a8c5-480facbaffa3"
      },
      "source": [
        "# Instantiate a VotingClassifier 'vc'\n",
        "vc = VotingClassifier(estimators=classifiers)\n",
        "# Fit 'vc' to the traing set and predict test set labels\n",
        "vc.fit(X_train, y_train)\n",
        "y_pred = vc.predict(X_test)\n",
        "# Evaluate the test-set accuracy of 'vc'\n",
        "print(\"Voting classifier: \", round(accuracy_score(y_test, y_pred),3))"
      ],
      "execution_count": 48,
      "outputs": [
        {
          "output_type": "stream",
          "text": [
            "Voting classifier:  0.843\n"
          ],
          "name": "stdout"
        }
      ]
    },
    {
      "cell_type": "code",
      "metadata": {
        "id": "M2-j4DIFGAlQ",
        "colab_type": "code",
        "colab": {
          "base_uri": "https://localhost:8080/",
          "height": 269
        },
        "outputId": "088f027c-8768-44aa-b8e1-40284a50d696"
      },
      "source": [
        "print('roc_auc_score of Decision Tree regression classifier on test set: {:.4f}'.format(roc_auc_score(y_test, y_pred)))\n",
        "print('\\n')\n",
        "print(confusion_matrix(y_test, y_pred))\n",
        "print(\"=\"*60)\n",
        "print(classification_report(y_test, y_pred))"
      ],
      "execution_count": 51,
      "outputs": [
        {
          "output_type": "stream",
          "text": [
            "roc_auc_score of Decision Tree regression classifier on test set: 0.8184\n",
            "\n",
            "\n",
            "[[158  18]\n",
            " [ 24  68]]\n",
            "============================================================\n",
            "              precision    recall  f1-score   support\n",
            "\n",
            "           0       0.87      0.90      0.88       176\n",
            "           1       0.79      0.74      0.76        92\n",
            "\n",
            "    accuracy                           0.84       268\n",
            "   macro avg       0.83      0.82      0.82       268\n",
            "weighted avg       0.84      0.84      0.84       268\n",
            "\n"
          ],
          "name": "stdout"
        }
      ]
    },
    {
      "cell_type": "code",
      "metadata": {
        "id": "0LJzv2rmGAlT",
        "colab_type": "code",
        "colab": {
          "base_uri": "https://localhost:8080/",
          "height": 301
        },
        "outputId": "f438c714-9264-49dc-e37b-206f635010b8"
      },
      "source": [
        "fper, tper, thresholds = roc_curve(y_test, y_pred) \n",
        "plt.plot(fper, tper)\n",
        "plt.plot([0,1], [0,1], 'k--')\n",
        "plt.xlabel('False Positive Rate')\n",
        "plt.ylabel('True Positive Rate')\n",
        "plt.title('XGBoost ROC curve')\n",
        "# show the plot\n",
        "plt.show()"
      ],
      "execution_count": 52,
      "outputs": [
        {
          "output_type": "display_data",
          "data": {
            "image/png": "[encoded data removed]",
            "text/plain": [
              "<Figure size 432x288 with 1 Axes>"
            ]
          },
          "metadata": {
            "tags": []
          }
        }
      ]
    },
    {
      "cell_type": "markdown",
      "metadata": {
        "id": "BuXKzWRrGAlV",
        "colab_type": "text"
      },
      "source": [
        "---\n",
        "## Bagging\n",
        "---"
      ]
    },
    {
      "cell_type": "code",
      "metadata": {
        "id": "CdGDTfYFGAlW",
        "colab_type": "code",
        "colab": {}
      },
      "source": [
        "# Import models and utility functions\n",
        "from sklearn.ensemble import BaggingClassifier\n",
        "from sklearn.tree import DecisionTreeClassifier\n",
        "from sklearn.metrics import accuracy_score\n",
        "from sklearn.model_selection import train_test_split\n",
        "# Set seed for reproducibility\n",
        "SEED = 11"
      ],
      "execution_count": 0,
      "outputs": []
    },
    {
      "cell_type": "code",
      "metadata": {
        "id": "gDLpABmHGAlZ",
        "colab_type": "code",
        "colab": {
          "base_uri": "https://localhost:8080/",
          "height": 34
        },
        "outputId": "98d05d50-deb8-43d6-bfd5-f7dfd94b682e"
      },
      "source": [
        "# Instantiate a classification-tree 'dt'\n",
        "dt = DecisionTreeClassifier(max_depth=12, min_samples_leaf=0.16, random_state=SEED)\n",
        "\n",
        "# Instantiate a BaggingClassifier 'bc'\n",
        "bc = BaggingClassifier(base_estimator=dt, n_estimators=300, n_jobs=-1) # n_jobs=-1 means that all the CPU cores are used in computation. \n",
        "\n",
        "# Fit 'bc' to the training set\n",
        "bc.fit(X_train, y_train)\n",
        "\n",
        "# Predict test set labels\n",
        "y_pred = bc.predict(X_test)\n",
        "\n",
        "# Evaluate and print test-set accuracy\n",
        "accuracy = accuracy_score(y_test, y_pred)\n",
        "print('Accuracy of Bagging Classifier: {:.3f}'.format(accuracy))"
      ],
      "execution_count": 54,
      "outputs": [
        {
          "output_type": "stream",
          "text": [
            "Accuracy of Bagging Classifier: 0.825\n"
          ],
          "name": "stdout"
        }
      ]
    },
    {
      "cell_type": "code",
      "metadata": {
        "id": "5PxPCC0LGAlc",
        "colab_type": "code",
        "colab": {
          "base_uri": "https://localhost:8080/",
          "height": 269
        },
        "outputId": "c213199e-7a7f-430d-9eac-4d4f94d33a13"
      },
      "source": [
        "print('roc_auc_score of Decision Tree regression classifier on test set: {:.4f}'.format(roc_auc_score(y_test, y_pred)))\n",
        "print('\\n')\n",
        "print(confusion_matrix(y_test, y_pred))\n",
        "print(\"=\"*60)\n",
        "print(classification_report(y_test, y_pred))"
      ],
      "execution_count": 56,
      "outputs": [
        {
          "output_type": "stream",
          "text": [
            "roc_auc_score of Decision Tree regression classifier on test set: 0.8016\n",
            "\n",
            "\n",
            "[[154  22]\n",
            " [ 25  67]]\n",
            "============================================================\n",
            "              precision    recall  f1-score   support\n",
            "\n",
            "           0       0.86      0.88      0.87       176\n",
            "           1       0.75      0.73      0.74        92\n",
            "\n",
            "    accuracy                           0.82       268\n",
            "   macro avg       0.81      0.80      0.80       268\n",
            "weighted avg       0.82      0.82      0.82       268\n",
            "\n"
          ],
          "name": "stdout"
        }
      ]
    },
    {
      "cell_type": "code",
      "metadata": {
        "id": "mBE_jffIGAlf",
        "colab_type": "code",
        "colab": {
          "base_uri": "https://localhost:8080/",
          "height": 301
        },
        "outputId": "437becbd-d828-40a9-d668-cf1235eb34eb"
      },
      "source": [
        "fper, tper, thresholds = roc_curve(y_test, y_pred) \n",
        "plt.plot(fper, tper)\n",
        "plt.plot([0,1], [0,1], 'k--')\n",
        "plt.xlabel('False Positive Rate')\n",
        "plt.ylabel('True Positive Rate')\n",
        "plt.title('XGBoost ROC curve')\n",
        "# show the plot\n",
        "plt.show()"
      ],
      "execution_count": 57,
      "outputs": [
        {
          "output_type": "display_data",
          "data": {
            "image/png": "[encoded data removed]",
            "text/plain": [
              "<Figure size 432x288 with 1 Axes>"
            ]
          },
          "metadata": {
            "tags": []
          }
        }
      ]
    },
    {
      "cell_type": "markdown",
      "metadata": {
        "id": "icqVhcqTGAlk",
        "colab_type": "text"
      },
      "source": [
        "---\n",
        "## Random Forests\n",
        "---"
      ]
    },
    {
      "cell_type": "code",
      "metadata": {
        "id": "4gZNUb_QGAll",
        "colab_type": "code",
        "colab": {}
      },
      "source": [
        "# Basic imports\n",
        "from sklearn.ensemble import RandomForestRegressor\n",
        "from sklearn.model_selection import train_test_split\n",
        "from sklearn.metrics import mean_squared_error as MSE\n",
        "# Set seed for reproducibility\n",
        "SEED = 11"
      ],
      "execution_count": 0,
      "outputs": []
    },
    {
      "cell_type": "code",
      "metadata": {
        "id": "AuvZeClWGAlp",
        "colab_type": "code",
        "colab": {}
      },
      "source": [
        "# Instantiate a random forests regressor 'rf' 400 estimators\n",
        "rf = RandomForestRegressor(n_estimators=400, min_samples_leaf=0.12, random_state=SEED)\n",
        "# Fit 'rf' to the training set\n",
        "rf.fit(X_train, y_train)\n",
        "# Predict the test set labels 'y_pred'\n",
        "y_pred = rf.predict(X_test)"
      ],
      "execution_count": 0,
      "outputs": []
    },
    {
      "cell_type": "code",
      "metadata": {
        "id": "nb7ZGJ45GAlt",
        "colab_type": "code",
        "colab": {
          "base_uri": "https://localhost:8080/",
          "height": 34
        },
        "outputId": "7087d1f8-733b-4935-ae8f-fcc02cf19f8b"
      },
      "source": [
        "# Evaluate the test set RMSE\n",
        "rmse_test = MSE(y_test, y_pred)**(1/2)\n",
        "# Print the test set RMSE\n",
        "print('Test set RMSE of rf: {:.2f}'.format(rmse_test))"
      ],
      "execution_count": 60,
      "outputs": [
        {
          "output_type": "stream",
          "text": [
            "Test set RMSE of rf: 0.38\n"
          ],
          "name": "stdout"
        }
      ]
    },
    {
      "cell_type": "code",
      "metadata": {
        "id": "7J1LnwSzGjMD",
        "colab_type": "code",
        "colab": {
          "base_uri": "https://localhost:8080/",
          "height": 121
        },
        "outputId": "8728e687-aeaf-4836-94ad-8ff5d0f6e85b"
      },
      "source": [
        "from google.colab import drive\n",
        "drive.mount('/gdrive')"
      ],
      "execution_count": 65,
      "outputs": [
        {
          "output_type": "stream",
          "text": [
            "Go to this URL in a browser: https://accounts.google.com/o/oauth2/auth?client_id=947318989803-6bn6qk8qdgf4n4g3pfee6491hc0brc4i.apps.googleusercontent.com&redirect_uri=urn%3aietf%3awg%3aoauth%3a2.0%3aoob&response_type=code&scope=email%20https%3a%2f%2fwww.googleapis.com%2fauth%2fdocs.test%20https%3a%2f%2fwww.googleapis.com%2fauth%2fdrive%20https%3a%2f%2fwww.googleapis.com%2fauth%2fdrive.photos.readonly%20https%3a%2f%2fwww.googleapis.com%2fauth%2fpeopleapi.readonly\n",
            "\n",
            "Enter your authorization code:\n",
            "··········\n",
            "Mounted at /gdrive\n"
          ],
          "name": "stdout"
        }
      ]
    },
    {
      "cell_type": "code",
      "metadata": {
        "id": "7GY2Tc9aO91p",
        "colab_type": "code",
        "colab": {}
      },
      "source": [
        ""
      ],
      "execution_count": 0,
      "outputs": []
    }
  ]
}